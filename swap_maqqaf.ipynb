{
 "cells": [
  {
   "cell_type": "code",
   "execution_count": 19,
   "metadata": {},
   "outputs": [],
   "source": [
    "import os"
   ]
  },
  {
   "cell_type": "code",
   "execution_count": 34,
   "metadata": {},
   "outputs": [],
   "source": [
    "def maqqaf_swapper(inputfile):\n",
    "    with open(inputfile, 'r', encoding='utf-8') as infile:\n",
    "        lines = list(infile.readlines())\n",
    "    outputlines = []\n",
    "    for line in lines:\n",
    "        new_line = line.replace(\"־\",r\"\\maqqaf \")\n",
    "        outputlines.append(new_line)\n",
    "    with open(inputfile,'w',encoding='utf-8') as outfile:\n",
    "        for line in outputlines:\n",
    "            outfile.write(line)        "
   ]
  },
  {
   "cell_type": "code",
   "execution_count": 36,
   "metadata": {},
   "outputs": [],
   "source": [
    "def iterate_folder(folder):\n",
    "    file_list = os.listdir(folder)\n",
    "    for file in file_list:\n",
    "        if file.endswith(\".tex\"):\n",
    "            maqqaf_swapper(folder+file)\n",
    "            print(folder+file+ \" has had maqqaf swapped\")"
   ]
  },
  {
   "cell_type": "code",
   "execution_count": 38,
   "metadata": {},
   "outputs": [
    {
     "name": "stdout",
     "output_type": "stream",
     "text": [
      "./to_include/commands.tex has had maqqaf swapped\n",
      "./to_include/yamim_noraim_commands.tex has had maqqaf swapped\n"
     ]
    }
   ],
   "source": [
    "iterate_folder(\"./to_include/\")"
   ]
  },
  {
   "cell_type": "code",
   "execution_count": null,
   "metadata": {},
   "outputs": [],
   "source": []
  }
 ],
 "metadata": {
  "kernelspec": {
   "display_name": "Python 3",
   "language": "python",
   "name": "python3"
  },
  "language_info": {
   "codemirror_mode": {
    "name": "ipython",
    "version": 3
   },
   "file_extension": ".py",
   "mimetype": "text/x-python",
   "name": "python",
   "nbconvert_exporter": "python",
   "pygments_lexer": "ipython3",
   "version": "3.7.4"
  }
 },
 "nbformat": 4,
 "nbformat_minor": 2
}
