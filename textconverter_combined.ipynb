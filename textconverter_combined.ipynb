{
 "cells": [
  {
   "cell_type": "markdown",
   "metadata": {},
   "source": [
    "# Script to automatically make diacritical corrections in Hebrew text"
   ]
  },
  {
   "cell_type": "markdown",
   "metadata": {},
   "source": [
    "## Defines letters and words"
   ]
  },
  {
   "cell_type": "code",
   "execution_count": 1,
   "metadata": {},
   "outputs": [],
   "source": [
    "aleph_bet = ['א','ב','ג','ד','ה','ו','ז','ח','ט','י','כ','ך','ל','מ','ם',\n",
    "             'נ','ן','ס','ע','פ','ף','צ','ק','ר','ש','ת','װ','ױ','ײ','יִ',\n",
    "             'ﬡ','ﬢ','ﬣ','ﬤ','ﬥ','ﬦ','ﬧ','ﬨ','שׁ','שׂ','שּׁ','שּׂ','אַ','אָ',\n",
    "             'גּ','דּ','הּ','וּ','זּ','טּ','יּ','ךּ','כּ','לּ','מּ','נּ','סּ','ףּ',\n",
    "             'פּ','צּ','שּ','תּ','וֹ','בֿ','כֿ','פֿ','ﭏ','בּ', 'קּ']\n",
    "\n",
    "cant = ['֑','֒','֓','֔','֕','֖','֗','֘','֙','֚','֛','֜',\n",
    "             '֝','֞','֠','֡','֢','֣','֤','֥','֦','֧','֨','֩','֪','֫','֬','֭','֯','׃']\n",
    "\n",
    "cant2 = cant[:28]\n",
    "\n",
    "vowel = ['ְ','ֱ','ֲ','ֳ','ִ','ֵ','ֶ','ַ','ָ','ֹ','ֺ','ֻ','ּ','ֽ','־','ֿ','ׁ','ׂ','ׄ','ׅ','ׇ']\n",
    "\n",
    "letter_with_dagesh = ['שּׁ','שּׂ','גּ','דּ','זּ','טּ','יּ','כּ','לּ','מּ','נּ','סּ','פּ','צּ','שּ','תּ','בּ','קּ']\n",
    "rafe = 'ֿ'\n",
    "shva = vowel[0]\n",
    "chataf_vowels = vowel[1:4]\n",
    "short_vowels = [vowel[4],vowel[6],vowel[7],vowel[11],vowel[20]]\n",
    "long_vowels = ['וֹ','וּ', vowel[5], vowel[8], aleph_bet[9], 'ֹ']\n",
    "vowels_limited = vowel[0:4]+short_vowels+long_vowels\n",
    "dagesh = 'ּ'\n",
    "maqqaf = '־'\n",
    "meteg = 'ֽ'\n",
    "dot = '֯'\n",
    "\n",
    "gutterals = ['א','ה','ח','ע','ר' ,'ﬡ','ﬣ','ﬧ']             "
   ]
  },
  {
   "cell_type": "code",
   "execution_count": 2,
   "metadata": {},
   "outputs": [],
   "source": [
    "letters_w_final = ['כ','מ','נ','פ','צ']\n",
    "final_letters = ['ך','ם','ן','ף','ץ']"
   ]
  },
  {
   "cell_type": "code",
   "execution_count": 3,
   "metadata": {},
   "outputs": [],
   "source": [
    "shem = 'יהוה'\n",
    "shem_vowels = 'יְהֹוָה'\n",
    "yy_vowels = aleph_bet[9]+vowel[0]+aleph_bet[9]+vowel[8]\n",
    "\n",
    "kal_backwards_dagesh = 'כָּל'\n",
    "kal_dagesh = 'כָּל'\n",
    "kal = aleph_bet[52] + vowel[8] + aleph_bet[12]\n",
    "khal = aleph_bet[10] + vowel[8] + aleph_bet[12]\n",
    "kol = aleph_bet[52] + vowel[20] + aleph_bet[12]\n",
    "kol_maqqaf = aleph_bet[52] + vowel[20] + aleph_bet[12] + '־'\n",
    "khol_maqqaf = aleph_bet[10] + vowel[20] + aleph_bet[12] + '־'\n",
    "kol_space = aleph_bet[52] + vowel[20] + aleph_bet[12] + ' '\n",
    "khol_space = aleph_bet[10] + vowel[20] + aleph_bet[12] + ' '\n",
    "\n",
    "et = 'אֶת'\n",
    "ve_et = 'וְאֶת'\n",
    "space_et_space = ' ' + 'אֶת' + ' '\n",
    "space_ve_et_space = ' ' + 'וְאֶת' + ' '\n",
    "et_maqqaf = ' ' + 'אֶת' + '־'\n",
    "ve_et_maqqaf = ' ' + 'וְאֶת' + '־'"
   ]
  },
  {
   "cell_type": "code",
   "execution_count": 4,
   "metadata": {},
   "outputs": [],
   "source": [
    "shva_exceptions = ['שְׁתֵּי','שְׁתָּיִם','שְׁתַּיִם','שְׁנִַים','שְׁנֵי','שְׁתֵּים','שְׁנֵים','שְׁנֵי','שְׁנֵים']\n",
    "battim = 'בָּתִּים'\n",
    "vattim = 'בָתִּים'\n",
    "ana = 'אָנָּא'\n",
    "ana2 = 'אָנָּא'\n",
    "anah = 'אָנָּה'\n",
    "kamatz_katan_exceptions = [battim, vattim, ana, ana2, anah]"
   ]
  },
  {
   "cell_type": "code",
   "execution_count": 5,
   "metadata": {},
   "outputs": [],
   "source": [
    "#the shem converter \"eats\" some special characters next to sheimot, this stops it from doing that\n",
    "#it doesn't work all that well, so often manual intervention is necessary.\n",
    "special_characters = ['{', '}','\\\\']"
   ]
  },
  {
   "cell_type": "markdown",
   "metadata": {},
   "source": [
    "## Strips vowels and cantelation marks from words"
   ]
  },
  {
   "cell_type": "code",
   "execution_count": 6,
   "metadata": {},
   "outputs": [],
   "source": [
    "#removes trop and vowels\n",
    "def nonalpha_remover(word):\n",
    "    no_cant_word = ''\n",
    "    for letter in word:\n",
    "        if letter.isalpha() == True:\n",
    "            no_cant_word = no_cant_word + letter\n",
    "    return no_cant_word"
   ]
  },
  {
   "cell_type": "code",
   "execution_count": 7,
   "metadata": {},
   "outputs": [],
   "source": [
    "#removes trop but not vowels\n",
    "def trop_remover(word):\n",
    "    no_cant_word = ''\n",
    "    for letter in word:\n",
    "        if letter not in cant:\n",
    "            no_cant_word = no_cant_word + letter\n",
    "    return no_cant_word"
   ]
  },
  {
   "cell_type": "markdown",
   "metadata": {},
   "source": [
    "## Converts Shem-Havaya to double-yud while preserving cantelation marks"
   ]
  },
  {
   "cell_type": "code",
   "execution_count": 8,
   "metadata": {},
   "outputs": [],
   "source": [
    "def shem_converter(word):\n",
    "    prefix = ''\n",
    "    if word[0] != aleph_bet[9]:\n",
    "        prefix = prefix + word[0]\n",
    "        i = 1\n",
    "        if word[1].isalpha() == False:\n",
    "            prefix = prefix + word[1]\n",
    "            if word[2].isalpha() == False:\n",
    "                prefix = prefix + word[2]\n",
    "    no_prefix_word = word[len(prefix):]\n",
    "\n",
    "    if len(prefix) > 0:\n",
    "        yud1 = aleph_bet[9]\n",
    "    else:\n",
    "        yud1 = aleph_bet[9]+vowel[0]\n",
    "\n",
    "    yud2 = aleph_bet[9]+vowel[8]\n",
    "\n",
    "    cant_marks = []\n",
    "\n",
    "    #finds suffix\n",
    "    suffix = ''\n",
    "    i = -1\n",
    "    while word[i] != aleph_bet[4]:\n",
    "        if word[i] in special_characters:\n",
    "            suffix = word[i] + suffix\n",
    "        i = i-1\n",
    "    \n",
    "    for character in no_prefix_word:\n",
    "        if character in cant:\n",
    "            cant_marks.append(character)\n",
    "    if len(cant_marks) == 0:\n",
    "        new_shem = prefix + yud1 + yud2 + suffix\n",
    "    elif len(cant_marks) == 1:\n",
    "        new_shem = prefix + yud1 + yud2 + cant_marks[0] + suffix\n",
    "    elif len(cant_marks) == 2:\n",
    "        new_shem = prefix + yud1 + cant_marks[0] + yud2 + cant_marks[1] + suffix\n",
    "\n",
    "    return new_shem"
   ]
  },
  {
   "cell_type": "code",
   "execution_count": 9,
   "metadata": {},
   "outputs": [],
   "source": [
    "## Creates new paragraph with double-yud in place of Shem Havaya"
   ]
  },
  {
   "cell_type": "code",
   "execution_count": 10,
   "metadata": {},
   "outputs": [],
   "source": [
    "#this needs to be fixed to stop eating special characters (i.e. brackets, \\)"
   ]
  },
  {
   "cell_type": "code",
   "execution_count": 11,
   "metadata": {},
   "outputs": [],
   "source": [
    "def convert_shem(paragraph):\n",
    "    paragraph = str.replace(paragraph, '־', ' ־ ')\n",
    "    par_list = paragraph.split()\n",
    "    for word in par_list:\n",
    "        index = par_list.index(word)\n",
    "        if shem in nonalpha_remover(word):\n",
    "            double_yud = shem_converter(word)\n",
    "            par_list[index] = double_yud\n",
    "\n",
    "    new_par = ' '.join(par_list)\n",
    "    new_par = str.replace(new_par, ' ־ ','־')\n",
    "    new_par = str.replace(new_par, '׃', '׃')\n",
    "    return new_par"
   ]
  },
  {
   "cell_type": "code",
   "execution_count": 12,
   "metadata": {},
   "outputs": [],
   "source": [
    "## use https://he.wikisource.org/wiki/%D7%9E%D7%A7%D7%A8%D7%90 for testing texts"
   ]
  },
  {
   "cell_type": "markdown",
   "metadata": {},
   "source": [
    "## Puts a kamatz katan and maqqaf in \"kol\""
   ]
  },
  {
   "cell_type": "code",
   "execution_count": 13,
   "metadata": {},
   "outputs": [],
   "source": [
    "#this script does not work on words with trope\n",
    "#Since pesukim from wikisource have maqqafs and kamatz katans, it shouldn't make it less useful"
   ]
  },
  {
   "cell_type": "code",
   "execution_count": 14,
   "metadata": {},
   "outputs": [],
   "source": [
    "def kamatz_exception(word):\n",
    "    if word[-1] != aleph_bet[12]:\n",
    "        return True\n",
    "    elif aleph_bet[9] in word:\n",
    "        return True\n",
    "    elif aleph_bet[0] in word:\n",
    "        return True\n",
    "    else:\n",
    "        return False\n",
    "    #returns \"true\" if the word is a likely false positive for the word \"kol\""
   ]
  },
  {
   "cell_type": "code",
   "execution_count": 15,
   "metadata": {},
   "outputs": [],
   "source": [
    "def kol_kamatz_katan(paragraph):\n",
    "    paragraph = str.replace(paragraph, '־', ' ־ ')\n",
    "    par_list = paragraph.split()\n",
    "    #Paragraph is now split into words\n",
    "    for word in par_list:\n",
    "        index = par_list.index(word)\n",
    "        if (kal in word or khal in word or kal_backwards_dagesh in word or kal_dagesh in word) and kamatz_exception(word) == False:\n",
    "            if kal_backwards_dagesh in word:\n",
    "                word = word.replace(kal_backwards_dagesh,kol)\n",
    "            if kal_dagesh in word:\n",
    "                word = word.replace(kal_dagesh,kol)\n",
    "            split_word = word.split(vowel[8])\n",
    "            word = vowel[20].join(split_word)\n",
    "            par_list[index] = word\n",
    "            #If \"k(h)al\" appears in a word, change it to a kamatz katan\n",
    "    new_par = ' '.join(par_list)\n",
    "    new_par = str.replace(new_par, ' ־ ','־')\n",
    "    #Put paragraph back together\n",
    "    if kol_space in new_par: \n",
    "        new_par_split = new_par.split(kol_space)\n",
    "        new_par = kol_maqqaf.join(new_par_split)\n",
    "    if khol_space in new_par:\n",
    "        new_par_split = new_par.split(khol_space)\n",
    "        new_par = khol_maqqaf.join(new_par_split)\n",
    "    #Previous if-statements swap a space following \"kol\" to a maqqaf\n",
    "    new_par = str.replace(new_par, '׃', '׃')\n",
    "    return new_par"
   ]
  },
  {
   "cell_type": "markdown",
   "metadata": {},
   "source": [
    "## Puts a Maqqaf after \"et\" (when it has a segol)"
   ]
  },
  {
   "cell_type": "code",
   "execution_count": 16,
   "metadata": {},
   "outputs": [],
   "source": [
    "#this script does not work on words with trope\n",
    "#Since pesukim from wikisource have maqqafs, this shouldn't be a problem."
   ]
  },
  {
   "cell_type": "code",
   "execution_count": 17,
   "metadata": {},
   "outputs": [],
   "source": [
    "def et_fixer(paragraph):\n",
    "    par_list = paragraph.split()\n",
    "    if et in par_list:\n",
    "        new_par_split = paragraph.split(space_et_space)\n",
    "        new_paragraph = et_maqqaf.join(new_par_split)\n",
    "        new_par_split = new_paragraph.split(space_ve_et_space)\n",
    "        new_paragraph = ve_et_maqqaf.join(new_par_split)\n",
    "    else:\n",
    "        new_paragraph = paragraph\n",
    "    return new_paragraph"
   ]
  },
  {
   "cell_type": "markdown",
   "metadata": {},
   "source": [
    "## Puts a kamatz katan in common kamatz-katan words and situations"
   ]
  },
  {
   "cell_type": "code",
   "execution_count": 18,
   "metadata": {},
   "outputs": [],
   "source": [
    "#this script does not work on words with trope\n",
    "#Since pesukim from wikisource have kamatz katans, this shouldn't be too much of a problem."
   ]
  },
  {
   "cell_type": "code",
   "execution_count": 19,
   "metadata": {},
   "outputs": [],
   "source": [
    "#this imports a list of kamatz-katan words to fix and their replacements\n",
    "#import csv\n",
    "import csv\n",
    "words_to_fix = []\n",
    "corrected_words = []\n",
    "with open('kamatz_correction_list.csv', 'r', encoding='utf-8') as csvDataFile:\n",
    "    csvReader = csv.reader(csvDataFile)\n",
    "    for row in csvReader:\n",
    "        words_to_fix.append(row[0])\n",
    "        corrected_words.append(row[1])\n",
    "words_to_fix=words_to_fix[1:]\n",
    "corrected_words=corrected_words[1:]"
   ]
  },
  {
   "cell_type": "code",
   "execution_count": 20,
   "metadata": {},
   "outputs": [],
   "source": [
    "#removes shva marks, to check for kamatz katans\n",
    "#Since some may preceed erroneously marked shvas\n",
    "#This will need to be adjusted if the shva na marker is not a rafe\n",
    "def shva_mark_remover(word):\n",
    "    if rafe in word:\n",
    "        word = word.replace(rafe,'')\n",
    "    return word"
   ]
  },
  {
   "cell_type": "code",
   "execution_count": 21,
   "metadata": {},
   "outputs": [],
   "source": [
    "def kamatz_list_tester(word):\n",
    "    i=0\n",
    "    while i<len(words_to_fix):\n",
    "        if shva_mark_remover(word)==words_to_fix[i]:\n",
    "            word = corrected_words[i]\n",
    "        i=i+1\n",
    "    return word"
   ]
  },
  {
   "cell_type": "code",
   "execution_count": 22,
   "metadata": {},
   "outputs": [],
   "source": [
    "def kamatz_katan_adder(word):    \n",
    "    #prevents script from erroneously fixing false positives\n",
    "    nt_word = trop_remover(word)\n",
    "    for index in range(0,len(kamatz_katan_exceptions)):\n",
    "        if kamatz_katan_exceptions[index] in nt_word:\n",
    "            return word\n",
    "    \n",
    "    #runs word through list of predefined kamatz words to check\n",
    "    if shva_mark_remover(word) in words_to_fix:\n",
    "        return kamatz_list_tester(word)\n",
    "\n",
    "    for index in range(1,len(word)-2):\n",
    "        if word[index] == vowel[8]:\n",
    "            i = index\n",
    "            while word[i] not in aleph_bet:\n",
    "                i = i+1\n",
    "                if i>len(word)-1:\n",
    "                    break\n",
    "            if i<len(word)-1:\n",
    "                next_consonant = word[i]\n",
    "                if next_consonant in letter_with_dagesh:\n",
    "                    word = word[:index]+vowel[20]+word[index+1:]\n",
    "            \n",
    "            i = index+1\n",
    "            while word[i] not in vowels_limited:\n",
    "                i = i+1\n",
    "                if i>len(word)-1:\n",
    "                    return word\n",
    "            next_vowel = word[i]\n",
    "            if next_vowel == chataf_vowels[2] and next_consonant in gutterals:\n",
    "                word = word[:index]+vowel[20]+word[index+1:]\n",
    "                return word\n",
    "            #finds the vowel after the next one.  If both are shvas, the kamatz is katan.\n",
    "            if next_vowel == shva and shva in word[index+1:]:\n",
    "                if i<len(word)-1:\n",
    "                    i = i+1\n",
    "                    while i<len(word)-2 and word[i] not in vowels_limited:\n",
    "                        i = i+1\n",
    "                    sec_vowel = word[i]\n",
    "                    if sec_vowel == shva:\n",
    "                        word = word[:index]+vowel[20]+word[index:]\n",
    "\n",
    "            #if there's a kamatz under the second-to-last consonant, and a meteg earlier in the word, the kamatz is katan\n",
    "            if meteg in word and index == len(word)-2:\n",
    "                #finds index of previous consonant.  Adds kamatz katan if meteg is before that.\n",
    "                while word[i] not in aleph_bet:\n",
    "                    i = i-1\n",
    "                while i>0 and word[i] != meteg:\n",
    "                    i = i-1\n",
    "                if word[i] == meteg:\n",
    "                    word = word[:index]+vowel[20]+word[index:]\n",
    "    return word"
   ]
  },
  {
   "cell_type": "code",
   "execution_count": 23,
   "metadata": {},
   "outputs": [],
   "source": [
    "def kamatz_katan(paragraph):\n",
    "    #This goes through the list of common words with kamatz katan (besides \"kol\")\n",
    "    #and corrects them if they are present.\n",
    "    #This list can be added to as needed.\n",
    "    par_list = paragraph.split()\n",
    "    \n",
    "    #Calls the kamatz_katan_adder for each word in paragraph, if that word has a kamatz at all\n",
    "    for index in range(len(par_list)):\n",
    "        if vowel[8] in par_list[index]:\n",
    "            par_list[index] = kamatz_katan_adder(par_list[index])\n",
    "    paragraph = ' '.join(par_list)\n",
    "    double_kamatz1 = vowel[20] + vowel[8]\n",
    "    double_kamatz2 = vowel[8] + vowel[20]\n",
    "    if double_kamatz1 in paragraph or double_kamatz2 in paragraph:\n",
    "        paragraph = paragraph.replace(double_kamatz1,vowel[20])\n",
    "        paragraph = paragraph.replace(double_kamatz2,vowel[20])\n",
    "    return paragraph  "
   ]
  },
  {
   "cell_type": "markdown",
   "metadata": {},
   "source": [
    "## Marks shva na'"
   ]
  },
  {
   "cell_type": "code",
   "execution_count": 24,
   "metadata": {},
   "outputs": [],
   "source": [
    "#defines how shva is marked\n",
    "mark = rafe\n",
    "#mark = dot"
   ]
  },
  {
   "cell_type": "code",
   "execution_count": 25,
   "metadata": {},
   "outputs": [],
   "source": [
    "#Inserts the marker to mark a shva na'\n",
    "def na_marker(paragraph,index):\n",
    "    if paragraph[index-1] == mark or paragraph[index+1] == mark or paragraph[index+2] == mark or paragraph[index-2]==mark:\n",
    "        return paragraph\n",
    "        #does nothing, if the shva is already marked with a rafe\n",
    "    else:\n",
    "        par_start = paragraph[:index]\n",
    "        par_end = paragraph[index:]\n",
    "        new_par = par_start+mark+par_end\n",
    "        return new_par\n",
    "        #adds a rafe over the input letter"
   ]
  },
  {
   "cell_type": "code",
   "execution_count": 26,
   "metadata": {},
   "outputs": [],
   "source": [
    "#Determines what shvas are na' in a word, and calls the program to mark them\n",
    "def shva_na_function(word):\n",
    "    nt_word = trop_remover(word)\n",
    "    #this skips instances of shem hashem\n",
    "    if shem_vowels in nt_word or yy_vowels in nt_word:\n",
    "        return word\n",
    "    if nt_word in shva_exceptions:\n",
    "        return word\n",
    "    for index in range(1,len(word)-3):\n",
    "        i = index\n",
    "        if word[index] != shva:\n",
    "            continue\n",
    "            #this doesn't bother with the loop if the letter isn't a shva\n",
    "            \n",
    "        while word[i] not in aleph_bet:\n",
    "            i = i-1\n",
    "        previous_consonant = word[i]\n",
    "        #if the previous consonant is the beginning of the word, the shva is na'\n",
    "        if i == 0:\n",
    "            word = na_marker(word,index)\n",
    "            continue\n",
    "        if word[i-1] == maqqaf:\n",
    "            word = na_marker(word,index)\n",
    "        #if the previous consonant has a dagesh, the shva must be na'\n",
    "        if previous_consonant in letter_with_dagesh:\n",
    "            word = na_marker(word,index)\n",
    "            continue\n",
    "        if word[i+1] == dagesh or word[index+1] == dagesh:\n",
    "            word = na_marker(word,index)\n",
    "            continue\n",
    "            \n",
    "        #determines the next consonant\n",
    "        i = index + 1\n",
    "        while word[i] not in aleph_bet and i<len(word)-1:\n",
    "            i = i+1\n",
    "        next_consonant = word[i]\n",
    "        if next_consonant == previous_consonant:\n",
    "            word = na_marker(word,index)\n",
    "            continue\n",
    "        i=0\n",
    "        while i<5:\n",
    "            if word[index]==letters_w_final[i] and next_consonant == final_letter[i]:\n",
    "                word = na_marker(word,index)\n",
    "                continue   \n",
    "            i=i+1\n",
    "\n",
    "        #determines the previous vowel\n",
    "        i = index-2\n",
    "        while word[i] not in vowels_limited and i>0:\n",
    "            i = i-1\n",
    "        if i == 0:\n",
    "            continue\n",
    "        else:\n",
    "            previous_vowel = word[i]\n",
    "            #if the previous vowel is a shva, the current shva is na'\n",
    "            if previous_vowel == shva:\n",
    "                word = na_marker(word,index)\n",
    "            if previous_vowel in long_vowels:\n",
    "                word = na_marker(word,index)    \n",
    "        \n",
    "        #a shva following a long vowel is na', unless the long vowel is word-initial shuruk\n",
    "   \n",
    "\n",
    "    #determine how to mark סקינמלוי letters\n",
    "    return word"
   ]
  },
  {
   "cell_type": "code",
   "execution_count": 27,
   "metadata": {},
   "outputs": [
    {
     "data": {
      "text/plain": [
       "'בַּמִּקְדָּשׁ'"
      ]
     },
     "execution_count": 27,
     "metadata": {},
     "output_type": "execute_result"
    }
   ],
   "source": [
    "test = 'בַּמִּקְדָּשׁ'\n",
    "shva_na_function(test)"
   ]
  },
  {
   "cell_type": "code",
   "execution_count": 28,
   "metadata": {},
   "outputs": [],
   "source": [
    "#Calls the shva_na_function for each word in the input paragraph\n",
    "def shva_na_converter(paragraph):\n",
    "    par_list = paragraph.split()\n",
    "    for word in par_list:\n",
    "        index = par_list.index(word)\n",
    "        par_list[index] = shva_na_function(word)\n",
    "    new_par = ' '.join(par_list)\n",
    "    return new_par"
   ]
  },
  {
   "cell_type": "markdown",
   "metadata": {},
   "source": [
    "## Changes shva marking character"
   ]
  },
  {
   "cell_type": "code",
   "execution_count": 29,
   "metadata": {},
   "outputs": [],
   "source": [
    "#this program allows the changing of all rafes used to mark shva into another character\n",
    "#in this case a circle above the letter\n",
    "#this could be adapted to change a text that uses the dot to using something else\n",
    "def shva_na_mark_changer(paragraph):\n",
    "    new_paragraph = paragraph.replace(rafe,dot)\n",
    "    return new_paragraph\n",
    "    #return new_paragraph"
   ]
  },
  {
   "cell_type": "markdown",
   "metadata": {},
   "source": [
    "## Fixes mistakes"
   ]
  },
  {
   "cell_type": "code",
   "execution_count": 30,
   "metadata": {},
   "outputs": [],
   "source": [
    "def mistake_fixer(paragraph):\n",
    "    badkamatz1 = vowel[8] + vowel[20]\n",
    "    badkamatz2 = vowel[20] + vowel[8]\n",
    "    badkamatz3 =vowel[20]+vowel[20]\n",
    "    \n",
    "    baddot = dot+dot\n",
    "    baddot2 = dot+shva+dagesh+dot\n",
    "    baddot3 = 'ְּׁ֯֯'\n",
    "    fixdot3 = baddot3[1:6]\n",
    "    baddot4 = 'ְׁ֯֯'\n",
    "    fixdot4 = 'ְׁ֯'\n",
    "    \n",
    "    badrafe = rafe+rafe\n",
    "    badrafe2 = rafe+shva+dagesh+rafe\n",
    "    badrafe3 = baddot3.replace(rafe,dot)\n",
    "    fixrafe3 = fixdot3.replace(rafe,dot)\n",
    "    badrafe4 = baddot4.replace(rafe,dot)\n",
    "    fixrafe4 = fixdot4.replace(rafe,dot)\n",
    "    \n",
    "    resh_chataf = 'רֲ'\n",
    "    resh_shva = 'רְ'+dot\n",
    "    \n",
    "    if vowel[5] in paragraph or vowel[2] in paragraph:\n",
    "        paragraph = paragraph.replace(badkamatz1,vowel[20])\n",
    "        paragraph = paragraph.replace(badkamatz2,vowel[20])\n",
    "        paragraph = paragraph.replace(badkamatz3,vowel[20])\n",
    "    \n",
    "    if dot in paragraph:\n",
    "        paragraph = paragraph.replace(baddot,dot)\n",
    "        paragraph = paragraph.replace(baddot2,dagesh+shva+dot)\n",
    "        paragraph = paragraph.replace(baddot3,fixdot3)\n",
    "        paragraph = paragraph.replace(baddot4,fixdot4)\n",
    "    \n",
    "    if rafe in paragraph:\n",
    "        paragraph = paragraph.replace(badrafe,rafe)   \n",
    "        paragraph = paragraph.replace(badrafe2,dagesh+shva+dot)\n",
    "        paragraph = paragraph.replace(badrafe4,fixrafe4)\n",
    "    \n",
    "    if resh_chataf in paragraph:\n",
    "        paragraph = paragraph.replace(resh_chataf,resh_shva)\n",
    "    return paragraph"
   ]
  },
  {
   "cell_type": "code",
   "execution_count": null,
   "metadata": {},
   "outputs": [],
   "source": []
  },
  {
   "cell_type": "markdown",
   "metadata": {},
   "source": [
    "## Runs Paragraph through all converters"
   ]
  },
  {
   "cell_type": "code",
   "execution_count": 31,
   "metadata": {},
   "outputs": [],
   "source": [
    "def text_converter(paragraph):\n",
    "    #Comment out components of the script you don't want to run\n",
    "    paragraph = convert_shem(paragraph)\n",
    "    #paragraph = kol_kamatz_katan(paragraph)\n",
    "    #paragraph = et_fixer(paragraph)\n",
    "    paragraph = kamatz_katan(paragraph)\n",
    "    paragraph = shva_na_converter(paragraph)\n",
    "    paragraph = shva_na_mark_changer(paragraph)\n",
    "    paragraph = mistake_fixer(paragraph)\n",
    "    return paragraph"
   ]
  },
  {
   "cell_type": "markdown",
   "metadata": {},
   "source": [
    "## Missing bracket finder"
   ]
  },
  {
   "cell_type": "code",
   "execution_count": 32,
   "metadata": {},
   "outputs": [],
   "source": [
    "def bracket_counter(line):\n",
    "    open_brace_count = line.count('{')\n",
    "    close_brace_count = line.count('}')\n",
    "    output = [open_brace_count,close_brace_count]\n",
    "    return output"
   ]
  },
  {
   "cell_type": "markdown",
   "metadata": {},
   "source": [
    "## Kamatz-check list"
   ]
  },
  {
   "cell_type": "code",
   "execution_count": 33,
   "metadata": {},
   "outputs": [],
   "source": [
    "#This outputs a list of lines and words that have ambiguous kamatz cases\n",
    "#These are words with a kamatz that isn't marked katan followed by a shva\n",
    "#Once the list is output the user can manually go through the list, find words that need a kamatz katan, and make the change\n",
    "def kamatz_inspector(word):\n",
    "    i=1 #since a word can't start with a kamatz\n",
    "    length = len(word)\n",
    "    \n",
    "    #skips words with cantillation, since they'll get a kamatz katan with verse re-copying\n",
    "    if any(trop in cant2 for trop in word):\n",
    "        return False\n",
    "    \n",
    "    while i<len(word)-6:\n",
    "        if word[i]==vowel[8]:\n",
    "            index=i+2\n",
    "            while word[index] not in vowels_limited and index<len(word)-2:\n",
    "                index=index+1\n",
    "            next_vowel=word[index]\n",
    "            if next_vowel==shva:\n",
    "                return True\n",
    "        i=i+1\n",
    "    return False       "
   ]
  },
  {
   "cell_type": "code",
   "execution_count": 34,
   "metadata": {},
   "outputs": [],
   "source": [
    "def kamatz_finder(line,number):\n",
    "    par_list = line.split()\n",
    "    output = []\n",
    "    for word in par_list:\n",
    "        if shva in word and 'ָ' in word:\n",
    "            if kamatz_inspector(word)==True:\n",
    "                output.append(word)\n",
    "    if output != []:\n",
    "        print(output,'in line', number)  "
   ]
  },
  {
   "cell_type": "markdown",
   "metadata": {},
   "source": [
    "## Reading file from disk"
   ]
  },
  {
   "cell_type": "code",
   "execution_count": 35,
   "metadata": {},
   "outputs": [],
   "source": [
    "input_file = 'siddur.tex'"
   ]
  },
  {
   "cell_type": "code",
   "execution_count": 36,
   "metadata": {},
   "outputs": [],
   "source": [
    "with open(input_file, 'r', encoding='utf-8') as infile:\n",
    "    lines = list(infile.readlines())"
   ]
  },
  {
   "cell_type": "code",
   "execution_count": 37,
   "metadata": {},
   "outputs": [
    {
     "name": "stdout",
     "output_type": "stream",
     "text": [
      "['בְּ֯עָלְ֯מָא'] in line 133\n",
      "['וּלְעָלְ֯מֵי', 'עָלְ֯מַיָּא}\\\\\\\\'] in line 135\n",
      "['בְּ֯עָלְ֯מָא'] in line 140\n",
      "['בְּ֯עָלְ֯מָא'] in line 147\n",
      "['וּלְעָלְ֯מֵי', 'עָלְ֯מַיָּא}'] in line 148\n",
      "['בְּ֯עָלְ֯מָא׃'] in line 153\n",
      "['בְּ֯עָלְ֯מָא'] in line 182\n",
      "['וּלְעָלְ֯מֵי', 'עָלְ֯מַיָּא'] in line 185\n",
      "['בְּ֯עָלְ֯מָא׃'] in line 192\n",
      "['בְּ֯עָלְ֯מָא'] in line 204\n",
      "['וּלְעָלְ֯מֵי', 'עָלְ֯מַיָּא'] in line 207\n",
      "['בְּ֯עָלְ֯מָא׃'] in line 214\n",
      "['דְּ֯עָסְ֯קִין'] in line 216\n",
      "['\\\\firstword{בָּרוּךְ}'] in line 236\n",
      "['\\\\firstword{בָּרוּךְ}'] in line 446\n",
      "['\\\\firstword{בָּרוּךְ}'] in line 456\n",
      "['\\\\firstword{בָּרוּךְ}'] in line 460\n",
      "['בָטָֽחְ֯נוּ׃'] in line 582\n",
      "['נִבְהָֽלְ֯נוּ׃'] in line 659\n",
      "['בָטָֽחְ֯נוּ׃'] in line 766\n",
      "['יְ֯בָרְ֯כֽוּכָה׃\\\\hfill'] in line 838\n",
      "['הוֹחָֽלְ֯תִּי׃\\\\hfill'] in line 1020\n",
      "['הַמְ֯בֹרָךְ֯:}\\\\end{Large}'] in line 1047\n",
      "['מְ֯שָׁרְ֯תִים', 'מְ֯שָׁרְ֯תָיו', 'וּמְ֯בָרְ֯כִים'] in line 1078\n",
      "['בָּטָֽחְ֯נוּ'] in line 1099\n",
      "['וְ֯שָׂבָֽעְ֯תָּ׃'] in line 1136\n",
      "['רָם־וְ֯נִשָּׂא'] in line 1177\n",
      "['וְ֯אָמְ֯רוּ:'] in line 1183\n",
      "['וְ֯קָרְ֯בֵֽנוּ'] in line 1286\n",
      "['פָשָֽׁעְ֯נוּ'] in line 1291\n",
      "['אֲנָֽחְ֯נוּ'] in line 1304\n",
      "['בָּטָֽחְ֯נוּ:'] in line 1352\n",
      "['כְּ֯שֶׁעָמְ֯דָה', 'הָרְ֯שָׁעָה'] in line 1431\n",
      "['מָרְ֯דֳּכַי'] in line 1434\n",
      "['בָּרְ֯כֵֽנוּ'] in line 1489\n",
      "['בָּרְ֯כֵֽנוּ'] in line 1522\n",
      "['בָּרְ֯כֵֽנוּ'] in line 1538\n",
      "['בָּרְ֯כֵֽנוּ'] in line 1618\n",
      "['אֲנָֽחְ֯נוּ:\\\\hfill'] in line 1680\n",
      "['רָשָֽׁעְ֯נוּ׃'] in line 1725\n",
      "['אָבְ֯דָה'] in line 1741\n",
      "['קָרְ֯בָה', 'בָּחָרְ֯תָּ\\\\\\\\'] in line 1775\n",
      "['בָּחָרְ֯תָּ\\\\\\\\'] in line 1780\n",
      "['אֲנָֽחְ֯נוּ׃'] in line 1815\n",
      "['עָלְ֯מָא,'] in line 1859\n",
      "['הַמְ֯בֹרָךְ֯:}\\\\\\\\'] in line 1900\n",
      "['וִיבָרְ֯כֶֽהָ', 'כָּל־גְּ֯זֵרוׂת'] in line 1962\n",
      "['וִיבָרְ֯כֵֽהוּ', 'כָּל־גְּ֯זֵרוׂת'] in line 1965\n",
      "['וִיבָרְ֯כְֶם', 'כָּל־גְּ֯זֵרוׂת'] in line 1968\n",
      "['מֵעָנְ֯שׁוׂ'] in line 1987\n",
      "['וְ֯אָמְ֯רִין:', 'וּלְעָלְ֯מֵי', 'עָלְ֯מַיָּא'] in line 2117\n",
      "['וְ֯אָמְ֯רִין:'] in line 2119\n",
      "['לָבָֽשְׁ֯תָּ׃'] in line 2292\n",
      "['קָדְ֯שָׁךְ'] in line 2423\n",
      "['קָבָֽעְ֯תָּ:'] in line 2451\n",
      "['כְּ֯שֶׁעָמְ֯דָה', 'הָרְ֯שָׁעָה'] in line 2466\n",
      "['בָּרְ֯כֵֽנוּ'] in line 2479\n",
      "['אֲנָֽחְ֯נוּ'] in line 2573\n",
      "['בָּרְ֯כֵֽנוּ'] in line 2592\n",
      "['בָּרְ֯כֵֽנוּ'] in line 2605\n",
      "['קָרְ֯בָּן'] in line 2640\n",
      "['וְ֯אָמְ֯רוּ׃'] in line 2730\n",
      "['וְ֯אָמְ֯רִין:', 'וּלְעָלְ֯מֵי', 'עָלְ֯מַיָּא'] in line 2896\n",
      "['וְ֯אָמְ֯רִין:'] in line 2898\n",
      "['כּוֹנָֽנְ֯תָּה׃'] in line 3074\n",
      "['שֶׁהָיְ֯תָה'] in line 3107\n",
      "['בְּ֯יָדְ֯ךָ֮'] in line 3157\n",
      "['לִישׁוּעָתְ֯ךָ.', 'לִישׁוּעָתְ֯ךָ.'] in line 3164\n",
      "['\\\\firstword{בָּרוּךְ}'] in line 3191\n",
      "['כָּל־צָרְ֯כָּנָא,'] in line 3195\n",
      "['וְ֯הָיְ֯תָה'] in line 3233\n",
      "['עֻזָּךְ֯\\\\\\\\'] in line 3237\n",
      "['מָלָךְ֯}\\\\source{תהלים'] in line 3273\n",
      "['קָדְ֯שֽׁוֹ׃'] in line 3285\n",
      "['קָדְ֯שֽׁוֹ׃'] in line 3289\n",
      "['קָרְ֯בָה'] in line 3360\n",
      "['תִכָּלְ֯מִי'] in line 3371\n",
      "['דָּכְ֯יָֽם׃'] in line 3423\n",
      "['וּמְעָרְ֯בִין'] in line 3445\n",
      "['לְ֯בָרְ֯כֵֽנוּ:'] in line 3567\n",
      "['כְּ֯שֶׁעָמְ֯דָה', 'הָרְ֯שָׁעָה'] in line 3580\n",
      "['בָּרְ֯כֽוּנִי'] in line 3745\n",
      "['קָדְ֯שֶֽׁךָ'] in line 3825\n",
      "['קָדְ֯שֶׁךָ'] in line 3880\n",
      "['בָּחָרְ֯תָּ:'] in line 4026\n",
      "['בָּרְ֯כֵֽנוּ'] in line 4054\n",
      "['אָזְ֯נָֽי׃'] in line 4262\n",
      "['בָּטָֽחְ֯נוּ'] in line 4291\n",
      "['מֵעָנְ֯שׁוׂ'] in line 4387\n",
      "['וִיבָרְ֯כֶֽהָ', 'כָּל־גְּ֯זֵרוׂת'] in line 4410\n",
      "['וִיבָרְ֯כֵֽהוּ', 'כָּל־גְּ֯זֵרוׂת'] in line 4413\n",
      "['וִיבָרְ֯כְֶם', 'כָּל־גְּ֯זֵרוׂת'] in line 4416\n",
      "['וּמְבָרְ֯כִים'] in line 4468\n",
      "['דְּ֯עָסְ֯קִין', 'דְ֯עָלְ֯מָא', 'אָרְ֯כָה', 'וְ֯יִתְפָּרְ֯קוּן'] in line 4476\n",
      "['דְ֯עָלְ֯מָא', 'יָתְ֯כוֹן', 'אָרְ֯כָה', 'וְ֯תִתְפָּרְ֯קוּן'] in line 4481\n",
      "['בְּ֯צָרְ֯כֵי'] in line 4484\n",
      "['קָדְ֯שֽׁוֹ׃'] in line 4550\n",
      "['מְ֯שָׁרְ֯תָיו'] in line 4589\n",
      "['גָּדְ֯לֶֽךָ'] in line 4615\n",
      "['חָפְ֯שִׁית'] in line 4627\n",
      "['קָרְ֯בַּן'] in line 4652\n",
      "['חָרְ֯בָה'] in line 4667\n",
      "['קָרְ֯בַּן', 'וְ֯קָרְ֯בַּן'] in line 4670\n",
      "['הוֹדָֽעְ֯תָּ', 'קָבָֽעְ֯תָּ:'] in line 4677\n",
      "['קָדְ֯שָׁךְ'] in line 4734\n",
      "['מְ֯שָׁרְ֯תָיו'] in line 4762\n",
      "['גָּדְ֯לֶֽךָ'] in line 4791\n",
      "['קָרְ֯בַּן', 'וְ֯קָרְ֯בַּן'] in line 4834\n",
      "['לְ֯בָרְ֯כֵֽנוּ:', 'קָדְ֯שֶֽׁךָ'] in line 4929\n",
      "['בָּרְ֯כֵֽנוּ'] in line 4948\n",
      "['וּכְקָרְ֯בָּן:'] in line 4978\n",
      "['בָּרְ֯כֵֽנוּ'] in line 4997\n",
      "['אֲבָֽרְ֯כֵֽם׃\\\\\\\\'] in line 5071\n",
      "['בָּרְ֯כֵנוּ'] in line 5102\n",
      "['בָּרְ֯הָטִים'] in line 5279\n",
      "['הַר־קָדְ֯שֽׁוֹ׃'] in line 5328\n",
      "['בָּרְ֯בִיעִי'] in line 5329\n",
      "['חָמְ֯דָה'] in line 5351\n",
      "['גְּ֯דֻלָּתְ֯ךָ'] in line 5366\n",
      "['קָדְ֯שׁוֹ:'] in line 5381\n",
      "['לָיְ֯לָה:'] in line 5384\n",
      "['קָדְ֯שׁוֹ:'] in line 5390\n",
      "['יָקְ֯רוּ'] in line 5405\n",
      "['בְּ֯קָרְ֯אִי'] in line 5408\n",
      "['בְּ֯דָרְ֯כוֹ'] in line 5411\n",
      "['קָרְ֯בָּנֶיךָ:'] in line 5429\n",
      "['קָדְ֯שָׁךְ'] in line 5667\n",
      "['קָדְ֯שֶֽׁךָ'] in line 5752\n",
      "['לְ֯בָרְ֯כֵֽנוּ:'] in line 5768\n",
      "['קָדְ֯שֶֽׁךָ'] in line 5772\n",
      "['בָּרְ֯כֵֽנוּ'] in line 5804\n",
      "['דָּמְ֯תָה'] in line 5878\n",
      "['אָרְ֯נָן:'] in line 5887\n",
      "['מִסָּלְ֯עָם:'] in line 5896\n",
      "['בְּ֯נָסְ֯עָם'] in line 5948\n",
      "['גָּדְ֯לָךְ'] in line 5987\n",
      "['דָּמְ֯תָה'] in line 6014\n",
      "['וְ֯קָרְ֯מָה:', 'לְ֯עָצְ֯מָה:', 'לְ֯גָשְׁ֯מָה:', 'לְ֯זָרְ֯מָה:'] in line 6019\n",
      "['שָׁקְ֯עָה', 'וְ֯יָרְ֯דָה'] in line 6026\n",
      "['לְ֯מָֽעְ֯לָה.'] in line 6035\n",
      "['כְּ֯הִשָּׁבְ֯עָךְ'] in line 6107\n",
      "['לְ֯דָמְ֯תָה'] in line 6151\n",
      "['מִדָּלְ֯יָו'] in line 6155\n",
      "['בְּ֯לָקְ֯קָם'] in line 6168\n",
      "['קָדְ֯שֶֽׁךָ'] in line 6170\n",
      "['יָרְ֯דָה'] in line 6176\n",
      "['וְ֯יָלְ֯דָה'] in line 6259\n",
      "['יָלְ֯דָה'] in line 6264\n",
      "['שֶׁהָלְ֯כָה'] in line 6381\n",
      "['כָּל־קְ֯רוֹבַי'] in line 6385\n",
      "['שְׁ֯הָלְ֯כוּ'] in line 6386\n",
      "['לְ֯פָרְ֯טָם,'] in line 6419\n",
      "['תִּעְתָּֽעְ֯נוּ:'] in line 6441\n",
      "['הִרְשָֽׁעְ֯נוּ:'] in line 6443\n",
      "['קָרְ֯בָּן'] in line 6484\n",
      "['סָלְ֯חָן'] in line 6500\n",
      "['שָׂבְ֯עָה'] in line 6550\n",
      "['נוֹשָֽׁעְ֯תִּי:'] in line 6555\n",
      "['קָדְ֯שֶׁךָ'] in line 6568\n",
      "['הָרְ֯שָׁעָה\\\\\\\\'] in line 6569\n",
      "['אָרְ֯כָה'] in line 6570\n",
      "['יָֽקְ֯שָׁה'] in line 6606\n",
      "['עָמְ֯דָה'] in line 6617\n",
      "['וְ֯סָמְ֯כֵנִי:'] in line 6652\n",
      "['יָלְ֯דָה'] in line 6693\n",
      "['וּמְבָרְ֯כִים'] in line 6778\n",
      "['וְ֯הָרְ֯חָבָה'] in line 6783\n",
      "['קָדְ֯שֶֽׁךָ'] in line 6791\n",
      "['זָכְ֯רֵֽנּוּ', 'וּפָקְ֯דֵֽנוּ'] in line 6805\n",
      "['יְ֯בָרְ֯כֵהוּ'] in line 6861\n"
     ]
    }
   ],
   "source": [
    "new_lines = []\n",
    "line_number = 1\n",
    "for line in lines:\n",
    "    new_line = text_converter(line)\n",
    "    new_lines.append(new_line)\n",
    "    #for troubleshooting--identifies the last line where the script ran\n",
    "    #print('line number', line_number, 'outputted successfully')\n",
    "    \n",
    "    \n",
    "    if bracket_counter(line) != bracket_counter(new_line):\n",
    "        print('Check brackets in line ',line_number)\n",
    "    \n",
    "    kamatz_finder(new_line,line_number) \n",
    "    \n",
    "    line_number=line_number+1\n",
    "    "
   ]
  },
  {
   "cell_type": "code",
   "execution_count": 38,
   "metadata": {},
   "outputs": [],
   "source": [
    "output_file = 'siddur_converted.tex'"
   ]
  },
  {
   "cell_type": "code",
   "execution_count": 39,
   "metadata": {},
   "outputs": [],
   "source": [
    "with open(output_file, 'w', encoding='utf-8') as outfile:\n",
    "    for line in new_lines:\n",
    "        if line != '':\n",
    "            if line[-1] != '\\n':\n",
    "                outfile.write(line + '\\n')\n",
    "            else:\n",
    "                outfile.write(line)\n",
    "        else:\n",
    "            outfile.write('\\n')"
   ]
  },
  {
   "cell_type": "code",
   "execution_count": null,
   "metadata": {},
   "outputs": [],
   "source": []
  }
 ],
 "metadata": {
  "kernelspec": {
   "display_name": "Python 3",
   "language": "python",
   "name": "python3"
  },
  "language_info": {
   "codemirror_mode": {
    "name": "ipython",
    "version": 3
   },
   "file_extension": ".py",
   "mimetype": "text/x-python",
   "name": "python",
   "nbconvert_exporter": "python",
   "pygments_lexer": "ipython3",
   "version": "3.7.4"
  }
 },
 "nbformat": 4,
 "nbformat_minor": 2
}
