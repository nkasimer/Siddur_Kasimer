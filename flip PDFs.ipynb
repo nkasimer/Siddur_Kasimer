{
 "cells": [
  {
   "cell_type": "code",
   "execution_count": 1,
   "metadata": {},
   "outputs": [],
   "source": [
    "from pdfrw import PdfReader, PdfWriter\n",
    "\n",
    "def flip_PDF(inpfn):\n",
    "    rotate = 180\n",
    "\n",
    "    #ranges = [[int(y) for y in x.split('-')] for x in ranges]\n",
    "    outname = inpfn.split(\".pdf\")\n",
    "    outfn = outname[0]+\".rotated.\"+outname[1]+\"pdf\"\n",
    "    print(outfn)\n",
    "    #outfn = 'rotate.%s' % os.path.basename(inpfn)\n",
    "    trailer = PdfReader(inpfn)\n",
    "    pages = trailer.pages\n",
    "\n",
    "    ranges = [[1, len(pages)]]\n",
    "\n",
    "    for onerange in ranges:\n",
    "        onerange = (onerange + onerange[-1:])[:2]\n",
    "        for pagenum in range(onerange[0]-1, onerange[1]):\n",
    "            pages[pagenum].Rotate = (int(pages[pagenum].inheritable.Rotate or\n",
    "                                         0) + rotate) % 360\n",
    "\n",
    "    outdata = PdfWriter(outfn)\n",
    "    outdata.trailer = trailer\n",
    "    outdata.write()"
   ]
  },
  {
   "cell_type": "code",
   "execution_count": 3,
   "metadata": {},
   "outputs": [
    {
     "name": "stdout",
     "output_type": "stream",
     "text": [
      "Covers/1.5_cover_shab_weekday.rotated.pdf\n"
     ]
    }
   ],
   "source": [
    "flip_PDF(\"Covers/1.5_cover_shab_weekday.pdf\")\n",
    "#flip_PDF(\"1.5_siddur_weekday_shabbat.pdf\")"
   ]
  },
  {
   "cell_type": "code",
   "execution_count": null,
   "metadata": {},
   "outputs": [],
   "source": []
  }
 ],
 "metadata": {
  "kernelspec": {
   "display_name": "Python 3",
   "language": "python",
   "name": "python3"
  },
  "language_info": {
   "codemirror_mode": {
    "name": "ipython",
    "version": 3
   },
   "file_extension": ".py",
   "mimetype": "text/x-python",
   "name": "python",
   "nbconvert_exporter": "python",
   "pygments_lexer": "ipython3",
   "version": "3.7.4"
  }
 },
 "nbformat": 4,
 "nbformat_minor": 2
}
